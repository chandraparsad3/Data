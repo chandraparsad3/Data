{
 "cells": [
  {
   "cell_type": "code",
   "execution_count": 2,
   "id": "be160ee8-12f7-4a1f-aa83-d8cfe6dcb595",
   "metadata": {
    "tags": []
   },
   "outputs": [],
   "source": [
    "import numpy as np"
   ]
  },
  {
   "cell_type": "code",
   "execution_count": 3,
   "id": "3bb73045-ff08-4a7b-9d36-109776713a56",
   "metadata": {},
   "outputs": [],
   "source": [
    "arr=np.random.randint(1,200,(3,3))"
   ]
  },
  {
   "cell_type": "code",
   "execution_count": 4,
   "id": "09daee23-b287-4b97-9552-c1128b51329f",
   "metadata": {},
   "outputs": [
    {
     "data": {
      "text/plain": [
       "array([[113,   9, 105],\n",
       "       [106, 190, 118],\n",
       "       [116,  17,  99]])"
      ]
     },
     "execution_count": 4,
     "metadata": {},
     "output_type": "execute_result"
    }
   ],
   "source": [
    "arr"
   ]
  },
  {
   "cell_type": "code",
   "execution_count": null,
   "id": "c5437fcc-bc50-409e-87aa-aca9660868f5",
   "metadata": {},
   "outputs": [],
   "source": [
    "arr.reshape(6,2)"
   ]
  },
  {
   "cell_type": "code",
   "execution_count": 5,
   "id": "49960556-6cd5-4f15-8154-2d075c9588e6",
   "metadata": {},
   "outputs": [
    {
     "data": {
      "text/plain": [
       "array([[113, 106, 116],\n",
       "       [  9, 190,  17],\n",
       "       [105, 118,  99]])"
      ]
     },
     "execution_count": 5,
     "metadata": {},
     "output_type": "execute_result"
    }
   ],
   "source": [
    "arr.T"
   ]
  },
  {
   "cell_type": "code",
   "execution_count": 7,
   "id": "d2a2bd3a-5cb0-4ae0-8d03-4f9eed19d0fe",
   "metadata": {},
   "outputs": [
    {
     "data": {
      "text/plain": [
       "array([113,   9, 105, 106, 190, 118, 116,  17,  99])"
      ]
     },
     "execution_count": 7,
     "metadata": {},
     "output_type": "execute_result"
    }
   ],
   "source": [
    "arr.flatten()#To Convert any dimensional into one dimension"
   ]
  },
  {
   "cell_type": "code",
   "execution_count": 8,
   "id": "b455d2be-4a3c-440d-a91e-c679f85d9cfa",
   "metadata": {},
   "outputs": [],
   "source": [
    "arr1=np.random.randint(1,123,(3,5))"
   ]
  },
  {
   "cell_type": "code",
   "execution_count": 9,
   "id": "6284e4df-a56a-4d74-aa13-90557c66f45e",
   "metadata": {},
   "outputs": [
    {
     "data": {
      "text/plain": [
       "array([ 64,  38, 121, 115,  88, 101,  46,  79,  66,   8, 110, 103,  97,\n",
       "        14,  29])"
      ]
     },
     "execution_count": 9,
     "metadata": {},
     "output_type": "execute_result"
    }
   ],
   "source": [
    "arr1.flatten()"
   ]
  },
  {
   "cell_type": "code",
   "execution_count": 10,
   "id": "82f4a88e-a463-4666-ba94-a2a2d9983dea",
   "metadata": {},
   "outputs": [
    {
     "data": {
      "text/plain": [
       "2"
      ]
     },
     "execution_count": 10,
     "metadata": {},
     "output_type": "execute_result"
    }
   ],
   "source": [
    "arr1.ndim"
   ]
  },
  {
   "cell_type": "code",
   "execution_count": null,
   "id": "5f6bb3b2-77fd-4c12-9ca4-4a24d7ca98d1",
   "metadata": {},
   "outputs": [],
   "source": [
    "arr.expand"
   ]
  },
  {
   "cell_type": "code",
   "execution_count": 16,
   "id": "a0864e47-2e88-48cc-95f1-7c03e0f7b18d",
   "metadata": {},
   "outputs": [],
   "source": [
    "arr=np.array([[1],[2],[3]])"
   ]
  },
  {
   "cell_type": "code",
   "execution_count": 17,
   "id": "82e5f1aa-777b-49f1-a017-be63e37d581d",
   "metadata": {},
   "outputs": [
    {
     "data": {
      "text/plain": [
       "array([[1],\n",
       "       [2],\n",
       "       [3]])"
      ]
     },
     "execution_count": 17,
     "metadata": {},
     "output_type": "execute_result"
    }
   ],
   "source": [
    "arr"
   ]
  },
  {
   "cell_type": "code",
   "execution_count": 18,
   "id": "de2d59e7-03a1-44de-8b54-ea0b6041a5ad",
   "metadata": {},
   "outputs": [
    {
     "data": {
      "text/plain": [
       "array([1, 2, 3])"
      ]
     },
     "execution_count": 18,
     "metadata": {},
     "output_type": "execute_result"
    }
   ],
   "source": [
    "np.squeeze(arr)"
   ]
  },
  {
   "cell_type": "code",
   "execution_count": 20,
   "id": "60f28ed0-f9ea-4c27-901a-bc1d876b1a2b",
   "metadata": {},
   "outputs": [
    {
     "data": {
      "text/plain": [
       "array([ True,  True,  True])"
      ]
     },
     "execution_count": 20,
     "metadata": {},
     "output_type": "execute_result"
    }
   ],
   "source": [
    "arr.flatten()==np.squeeze(arr)"
   ]
  },
  {
   "cell_type": "code",
   "execution_count": null,
   "id": "259e3ac9-9f5f-46ff-bf89-8271b933c86f",
   "metadata": {},
   "outputs": [],
   "source": [
    "#Binary Operation"
   ]
  },
  {
   "cell_type": "code",
   "execution_count": 21,
   "id": "4a36185e-c458-4a95-a054-84e9f87d3311",
   "metadata": {},
   "outputs": [],
   "source": [
    "arr1=np.random.randint(1,10,(3,4))\n",
    "arr2=np.random.randint(1,10,(3,4))"
   ]
  },
  {
   "cell_type": "code",
   "execution_count": 22,
   "id": "291af4a5-0894-4a84-b32e-cac0a4970662",
   "metadata": {},
   "outputs": [
    {
     "data": {
      "text/plain": [
       "array([[6, 6, 6, 5],\n",
       "       [2, 7, 3, 5],\n",
       "       [8, 7, 5, 2]])"
      ]
     },
     "execution_count": 22,
     "metadata": {},
     "output_type": "execute_result"
    }
   ],
   "source": [
    "arr1"
   ]
  },
  {
   "cell_type": "code",
   "execution_count": 24,
   "id": "95998748-c877-404d-91b4-61ad761eb74d",
   "metadata": {},
   "outputs": [
    {
     "data": {
      "text/plain": [
       "array([[9, 5, 2, 1],\n",
       "       [2, 5, 9, 2],\n",
       "       [5, 3, 4, 7]])"
      ]
     },
     "execution_count": 24,
     "metadata": {},
     "output_type": "execute_result"
    }
   ],
   "source": [
    "arr2"
   ]
  },
  {
   "cell_type": "code",
   "execution_count": 25,
   "id": "1fc13f63-71c2-4860-bbaa-22a85a7d0b76",
   "metadata": {},
   "outputs": [
    {
     "data": {
      "text/plain": [
       "array([[0, 4, 2, 1],\n",
       "       [2, 5, 1, 0],\n",
       "       [0, 3, 4, 2]])"
      ]
     },
     "execution_count": 25,
     "metadata": {},
     "output_type": "execute_result"
    }
   ],
   "source": [
    "arr1 & arr2"
   ]
  },
  {
   "cell_type": "code",
   "execution_count": 26,
   "id": "7a9bac8f-5981-4036-9033-9c730b431b90",
   "metadata": {},
   "outputs": [
    {
     "data": {
      "text/plain": [
       "array([[15,  7,  6,  5],\n",
       "       [ 2,  7, 11,  7],\n",
       "       [13,  7,  5,  7]])"
      ]
     },
     "execution_count": 26,
     "metadata": {},
     "output_type": "execute_result"
    }
   ],
   "source": [
    "arr1 | arr2"
   ]
  },
  {
   "cell_type": "code",
   "execution_count": 27,
   "id": "739cc308-270b-4e59-83c1-c70bdb97b68e",
   "metadata": {},
   "outputs": [
    {
     "data": {
      "text/plain": [
       "array([[-7, -7, -7, -6],\n",
       "       [-3, -8, -4, -6],\n",
       "       [-9, -8, -6, -3]])"
      ]
     },
     "execution_count": 27,
     "metadata": {},
     "output_type": "execute_result"
    }
   ],
   "source": [
    "~arr1"
   ]
  },
  {
   "cell_type": "code",
   "execution_count": null,
   "id": "0b0f1013-9016-46c3-96c0-6a9f8adbd6b1",
   "metadata": {},
   "outputs": [],
   "source": [
    "#String Functions\n"
   ]
  },
  {
   "cell_type": "code",
   "execution_count": 28,
   "id": "fdee078d-710b-4d08-8811-558d53d7d652",
   "metadata": {},
   "outputs": [],
   "source": [
    "arr=np.array(['sudh','Kumar'])"
   ]
  },
  {
   "cell_type": "code",
   "execution_count": 29,
   "id": "7ad1a3d1-ff7b-46ff-87db-ca57267faf4d",
   "metadata": {},
   "outputs": [
    {
     "data": {
      "text/plain": [
       "array(['sudh', 'Kumar'], dtype='<U5')"
      ]
     },
     "execution_count": 29,
     "metadata": {},
     "output_type": "execute_result"
    }
   ],
   "source": [
    "arr"
   ]
  },
  {
   "cell_type": "code",
   "execution_count": null,
   "id": "82b40361-8ad0-425a-9376-41c742cad530",
   "metadata": {},
   "outputs": [],
   "source": [
    "# Sort,Search & counting functions\n"
   ]
  },
  {
   "cell_type": "code",
   "execution_count": null,
   "id": "5c8da7dc-db09-4bf9-aeeb-b490bd575d3d",
   "metadata": {},
   "outputs": [],
   "source": []
  }
 ],
 "metadata": {
  "kernelspec": {
   "display_name": "Python 3 (ipykernel)",
   "language": "python",
   "name": "python3"
  },
  "language_info": {
   "codemirror_mode": {
    "name": "ipython",
    "version": 3
   },
   "file_extension": ".py",
   "mimetype": "text/x-python",
   "name": "python",
   "nbconvert_exporter": "python",
   "pygments_lexer": "ipython3",
   "version": "3.10.8"
  }
 },
 "nbformat": 4,
 "nbformat_minor": 5
}
