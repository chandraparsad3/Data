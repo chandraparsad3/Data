{
 "cells": [
  {
   "cell_type": "code",
   "execution_count": 2,
   "id": "3bce382b-e5c1-428c-8c54-5359272434ee",
   "metadata": {},
   "outputs": [],
   "source": [
    "import numpy as np"
   ]
  },
  {
   "cell_type": "code",
   "execution_count": 11,
   "id": "6774dc01-3bb5-4e12-8ab5-0f9617950f73",
   "metadata": {},
   "outputs": [
    {
     "data": {
      "text/plain": [
       "array([[ True, False, False, False, False],\n",
       "       [False,  True, False, False, False],\n",
       "       [False, False,  True, False, False],\n",
       "       [False, False, False,  True, False],\n",
       "       [False, False, False, False,  True]])"
      ]
     },
     "execution_count": 11,
     "metadata": {},
     "output_type": "execute_result"
    }
   ],
   "source": [
    "np.fromfunction(lambda x,y:x==y,(5,5))"
   ]
  },
  {
   "cell_type": "code",
   "execution_count": 12,
   "id": "e35a4e40-0222-4667-a1ed-7f78005f6563",
   "metadata": {},
   "outputs": [
    {
     "data": {
      "text/plain": [
       "array([[  1.,   0.,   0.,   0.,   0.],\n",
       "       [  1.,   1.,   1.,   1.,   1.],\n",
       "       [  1.,   2.,   4.,   8.,  16.],\n",
       "       [  1.,   3.,   9.,  27.,  81.],\n",
       "       [  1.,   4.,  16.,  64., 256.]])"
      ]
     },
     "execution_count": 12,
     "metadata": {},
     "output_type": "execute_result"
    }
   ],
   "source": [
    "np.fromfunction(lambda x,y:x**y,(5,5))"
   ]
  },
  {
   "cell_type": "code",
   "execution_count": 13,
   "id": "b8ad4fb8-2281-415c-ac90-24e2cb2d7e8e",
   "metadata": {},
   "outputs": [],
   "source": [
    "l=[2,3,4,5]\n"
   ]
  },
  {
   "cell_type": "code",
   "execution_count": 14,
   "id": "59a4828f-7b45-4e74-b4af-6cc4eca6760b",
   "metadata": {},
   "outputs": [],
   "source": [
    "arr=np.array(l)"
   ]
  },
  {
   "cell_type": "code",
   "execution_count": 15,
   "id": "592c69ff-7cc0-47bd-b172-7e347b2d0b12",
   "metadata": {},
   "outputs": [
    {
     "data": {
      "text/plain": [
       "array([2, 3, 4, 5])"
      ]
     },
     "execution_count": 15,
     "metadata": {},
     "output_type": "execute_result"
    }
   ],
   "source": [
    "arr"
   ]
  },
  {
   "cell_type": "code",
   "execution_count": 16,
   "id": "392ef86a-bc99-48ee-b3f6-533e3df0ad54",
   "metadata": {},
   "outputs": [],
   "source": [
    "arr2=np.array([[1,2,3],[4,5,6],[5,6,7]])"
   ]
  },
  {
   "cell_type": "code",
   "execution_count": 18,
   "id": "438dff22-3b18-44b7-befa-4a176238b06e",
   "metadata": {},
   "outputs": [
    {
     "data": {
      "text/plain": [
       "2"
      ]
     },
     "execution_count": 18,
     "metadata": {},
     "output_type": "execute_result"
    }
   ],
   "source": [
    "arr2.ndim"
   ]
  },
  {
   "cell_type": "code",
   "execution_count": 19,
   "id": "d99ed040-1b83-4cc3-abf9-f7cb43ec70f9",
   "metadata": {},
   "outputs": [
    {
     "data": {
      "text/plain": [
       "9"
      ]
     },
     "execution_count": 19,
     "metadata": {},
     "output_type": "execute_result"
    }
   ],
   "source": [
    "arr2.size"
   ]
  },
  {
   "cell_type": "code",
   "execution_count": 20,
   "id": "e4cee7d6-3bcf-4242-b668-7aa585a9a921",
   "metadata": {},
   "outputs": [
    {
     "data": {
      "text/plain": [
       "array([[1, 2, 3],\n",
       "       [4, 5, 6],\n",
       "       [5, 6, 7]])"
      ]
     },
     "execution_count": 20,
     "metadata": {},
     "output_type": "execute_result"
    }
   ],
   "source": [
    "arr2"
   ]
  },
  {
   "cell_type": "code",
   "execution_count": 22,
   "id": "f8819c65-fbae-48be-b987-66dc94d1d692",
   "metadata": {},
   "outputs": [
    {
     "data": {
      "text/plain": [
       "(3, 3)"
      ]
     },
     "execution_count": 22,
     "metadata": {},
     "output_type": "execute_result"
    }
   ],
   "source": [
    "arr2.shape"
   ]
  },
  {
   "cell_type": "code",
   "execution_count": 24,
   "id": "3d3faa7a-1b3f-4f28-abd7-6611e7bf0c4c",
   "metadata": {},
   "outputs": [
    {
     "data": {
      "text/plain": [
       "array([  1.2,   2.2,   3.2,   4.2,   5.2,   6.2,   7.2,   8.2,   9.2,\n",
       "        10.2,  11.2,  12.2,  13.2,  14.2,  15.2,  16.2,  17.2,  18.2,\n",
       "        19.2,  20.2,  21.2,  22.2,  23.2,  24.2,  25.2,  26.2,  27.2,\n",
       "        28.2,  29.2,  30.2,  31.2,  32.2,  33.2,  34.2,  35.2,  36.2,\n",
       "        37.2,  38.2,  39.2,  40.2,  41.2,  42.2,  43.2,  44.2,  45.2,\n",
       "        46.2,  47.2,  48.2,  49.2,  50.2,  51.2,  52.2,  53.2,  54.2,\n",
       "        55.2,  56.2,  57.2,  58.2,  59.2,  60.2,  61.2,  62.2,  63.2,\n",
       "        64.2,  65.2,  66.2,  67.2,  68.2,  69.2,  70.2,  71.2,  72.2,\n",
       "        73.2,  74.2,  75.2,  76.2,  77.2,  78.2,  79.2,  80.2,  81.2,\n",
       "        82.2,  83.2,  84.2,  85.2,  86.2,  87.2,  88.2,  89.2,  90.2,\n",
       "        91.2,  92.2,  93.2,  94.2,  95.2,  96.2,  97.2,  98.2,  99.2,\n",
       "       100.2, 101.2])"
      ]
     },
     "execution_count": 24,
     "metadata": {},
     "output_type": "execute_result"
    }
   ],
   "source": [
    "np.arange(1.2,102.2)"
   ]
  },
  {
   "cell_type": "code",
   "execution_count": 31,
   "id": "239c5bc3-5863-4b55-aac8-add5995424e9",
   "metadata": {},
   "outputs": [
    {
     "data": {
      "text/plain": [
       "array([  1. ,  10.9,  20.8,  30.7,  40.6,  50.5,  60.4,  70.3,  80.2,\n",
       "        90.1, 100. ])"
      ]
     },
     "execution_count": 31,
     "metadata": {},
     "output_type": "execute_result"
    }
   ],
   "source": [
    "np.linspace(1,100,11)"
   ]
  },
  {
   "cell_type": "code",
   "execution_count": 32,
   "id": "7db8d424-37c8-4873-ac60-407e63c74beb",
   "metadata": {},
   "outputs": [
    {
     "data": {
      "text/plain": [
       "array([0., 0., 0., 0., 0.])"
      ]
     },
     "execution_count": 32,
     "metadata": {},
     "output_type": "execute_result"
    }
   ],
   "source": [
    "np.zeros(5)"
   ]
  },
  {
   "cell_type": "code",
   "execution_count": 33,
   "id": "9d1ffd77-ea36-4b31-95d9-cca5d128c014",
   "metadata": {},
   "outputs": [
    {
     "data": {
      "text/plain": [
       "array([[0., 0., 0., 0., 0.],\n",
       "       [0., 0., 0., 0., 0.],\n",
       "       [0., 0., 0., 0., 0.],\n",
       "       [0., 0., 0., 0., 0.],\n",
       "       [0., 0., 0., 0., 0.]])"
      ]
     },
     "execution_count": 33,
     "metadata": {},
     "output_type": "execute_result"
    }
   ],
   "source": [
    "np.zeros((5,5))"
   ]
  },
  {
   "cell_type": "code",
   "execution_count": null,
   "id": "009419c2-942d-417d-b5e5-0e44aba060ae",
   "metadata": {},
   "outputs": [],
   "source": []
  }
 ],
 "metadata": {
  "kernelspec": {
   "display_name": "Python 3 (ipykernel)",
   "language": "python",
   "name": "python3"
  },
  "language_info": {
   "codemirror_mode": {
    "name": "ipython",
    "version": 3
   },
   "file_extension": ".py",
   "mimetype": "text/x-python",
   "name": "python",
   "nbconvert_exporter": "python",
   "pygments_lexer": "ipython3",
   "version": "3.10.8"
  }
 },
 "nbformat": 4,
 "nbformat_minor": 5
}
