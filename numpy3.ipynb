{
 "cells": [
  {
   "cell_type": "code",
   "execution_count": 8,
   "id": "2e438c28-cb40-416f-b05b-b475de73d4a8",
   "metadata": {},
   "outputs": [],
   "source": [
    "import numpy as np"
   ]
  },
  {
   "cell_type": "code",
   "execution_count": 10,
   "id": "99146de8-9921-4013-8d98-ac766dd37358",
   "metadata": {},
   "outputs": [],
   "source": [
    "arr = np.array([3,3,2,1,12,2,2,3,6,7,8,1,1,9,10])\n"
   ]
  },
  {
   "cell_type": "code",
   "execution_count": 11,
   "id": "18686b36-34fd-4d09-ab48-953fc61a7c7b",
   "metadata": {},
   "outputs": [
    {
     "data": {
      "text/plain": [
       "array([ 3,  3,  2,  1, 12,  2,  2,  3,  6,  7,  8,  1,  1,  9, 10])"
      ]
     },
     "execution_count": 11,
     "metadata": {},
     "output_type": "execute_result"
    }
   ],
   "source": [
    "arr"
   ]
  },
  {
   "cell_type": "code",
   "execution_count": null,
   "id": "0cc8381f-0d74-4178-b480-c30ec8eb6da7",
   "metadata": {},
   "outputs": [],
   "source": []
  }
 ],
 "metadata": {
  "kernelspec": {
   "display_name": "Python 3 (ipykernel)",
   "language": "python",
   "name": "python3"
  },
  "language_info": {
   "codemirror_mode": {
    "name": "ipython",
    "version": 3
   },
   "file_extension": ".py",
   "mimetype": "text/x-python",
   "name": "python",
   "nbconvert_exporter": "python",
   "pygments_lexer": "ipython3",
   "version": "3.10.8"
  }
 },
 "nbformat": 4,
 "nbformat_minor": 5
}
