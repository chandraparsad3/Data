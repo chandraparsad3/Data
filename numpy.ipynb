{
 "cells": [
  {
   "cell_type": "code",
   "execution_count": 3,
   "id": "7fc57a20-53b0-451d-acd9-fe83a0b6cc20",
   "metadata": {},
   "outputs": [],
   "source": [
    "import numpy as np"
   ]
  },
  {
   "cell_type": "code",
   "execution_count": 5,
   "id": "8a519d82-ecd4-4de9-a32e-bafd8cce722c",
   "metadata": {},
   "outputs": [
    {
     "data": {
      "text/plain": [
       "array([[[1., 1.],\n",
       "        [1., 1.],\n",
       "        [1., 1.]],\n",
       "\n",
       "       [[1., 1.],\n",
       "        [1., 1.],\n",
       "        [1., 1.]]])"
      ]
     },
     "execution_count": 5,
     "metadata": {},
     "output_type": "execute_result"
    }
   ],
   "source": [
    "np.ones((2,3,2))"
   ]
  },
  {
   "cell_type": "code",
   "execution_count": 8,
   "id": "e5ae1672-bc61-417d-9feb-02c07574ef39",
   "metadata": {},
   "outputs": [
    {
     "data": {
      "text/plain": [
       "array([[1., 0., 0., 0., 0.],\n",
       "       [0., 1., 0., 0., 0.],\n",
       "       [0., 0., 1., 0., 0.],\n",
       "       [0., 0., 0., 1., 0.],\n",
       "       [0., 0., 0., 0., 1.]])"
      ]
     },
     "execution_count": 8,
     "metadata": {},
     "output_type": "execute_result"
    }
   ],
   "source": [
    "np.eye(5)"
   ]
  },
  {
   "cell_type": "code",
   "execution_count": 9,
   "id": "9cc16f88-eaf8-46a3-a979-ac6372f3db73",
   "metadata": {},
   "outputs": [
    {
     "data": {
      "text/plain": [
       "array([2.        , 2.02020202, 2.04040404, 2.06060606, 2.08080808,\n",
       "       2.1010101 , 2.12121212, 2.14141414, 2.16161616, 2.18181818,\n",
       "       2.2020202 , 2.22222222, 2.24242424, 2.26262626, 2.28282828,\n",
       "       2.3030303 , 2.32323232, 2.34343434, 2.36363636, 2.38383838,\n",
       "       2.4040404 , 2.42424242, 2.44444444, 2.46464646, 2.48484848,\n",
       "       2.50505051, 2.52525253, 2.54545455, 2.56565657, 2.58585859,\n",
       "       2.60606061, 2.62626263, 2.64646465, 2.66666667, 2.68686869,\n",
       "       2.70707071, 2.72727273, 2.74747475, 2.76767677, 2.78787879,\n",
       "       2.80808081, 2.82828283, 2.84848485, 2.86868687, 2.88888889,\n",
       "       2.90909091, 2.92929293, 2.94949495, 2.96969697, 2.98989899,\n",
       "       3.01010101, 3.03030303, 3.05050505, 3.07070707, 3.09090909,\n",
       "       3.11111111, 3.13131313, 3.15151515, 3.17171717, 3.19191919,\n",
       "       3.21212121, 3.23232323, 3.25252525, 3.27272727, 3.29292929,\n",
       "       3.31313131, 3.33333333, 3.35353535, 3.37373737, 3.39393939,\n",
       "       3.41414141, 3.43434343, 3.45454545, 3.47474747, 3.49494949,\n",
       "       3.51515152, 3.53535354, 3.55555556, 3.57575758, 3.5959596 ,\n",
       "       3.61616162, 3.63636364, 3.65656566, 3.67676768, 3.6969697 ,\n",
       "       3.71717172, 3.73737374, 3.75757576, 3.77777778, 3.7979798 ,\n",
       "       3.81818182, 3.83838384, 3.85858586, 3.87878788, 3.8989899 ,\n",
       "       3.91919192, 3.93939394, 3.95959596, 3.97979798, 4.        ])"
      ]
     },
     "execution_count": 9,
     "metadata": {},
     "output_type": "execute_result"
    }
   ],
   "source": [
    "np.linspace(2,4,100)"
   ]
  },
  {
   "cell_type": "code",
   "execution_count": 12,
   "id": "3624d82f-727c-4e72-996d-93c1067a5e3f",
   "metadata": {},
   "outputs": [
    {
     "data": {
      "text/plain": [
       "array([   100.        ,    215.443469  ,    464.15888336,   1000.        ,\n",
       "         2154.43469003,   4641.58883361,  10000.        ,  21544.34690032,\n",
       "        46415.88833613, 100000.        ])"
      ]
     },
     "execution_count": 12,
     "metadata": {},
     "output_type": "execute_result"
    }
   ],
   "source": [
    "np.logspace(2,5,10,base=10)"
   ]
  },
  {
   "cell_type": "code",
   "execution_count": 16,
   "id": "322df285-b158-42f6-8ada-aa397e8897a6",
   "metadata": {},
   "outputs": [
    {
     "data": {
      "text/plain": [
       "array([[0.38417703, 0.25542949, 0.72995404, 0.93327157],\n",
       "       [0.97744098, 0.94677318, 0.51329811, 0.50073616],\n",
       "       [0.89817747, 0.37399842, 0.03397965, 0.74108652]])"
      ]
     },
     "execution_count": 16,
     "metadata": {},
     "output_type": "execute_result"
    }
   ],
   "source": [
    "np.random.rand(3,4)"
   ]
  },
  {
   "cell_type": "code",
   "execution_count": 17,
   "id": "a1b80ac5-cee7-4d92-9464-479fc416a975",
   "metadata": {},
   "outputs": [
    {
     "data": {
      "text/plain": [
       "array([[ 0.95766695,  0.95010276,  0.42925766, -1.44468039],\n",
       "       [-1.00420383, -0.95053671, -0.73493518,  0.16851088],\n",
       "       [-1.23797588, -1.25311636,  0.83467747,  0.5638199 ]])"
      ]
     },
     "execution_count": 17,
     "metadata": {},
     "output_type": "execute_result"
    }
   ],
   "source": [
    "np.random.randn(3,4)"
   ]
  },
  {
   "cell_type": "code",
   "execution_count": 31,
   "id": "9353f708-bbe4-41f9-b648-b4a42004f563",
   "metadata": {},
   "outputs": [],
   "source": [
    "cd=np.random.randn(3,4)"
   ]
  },
  {
   "cell_type": "code",
   "execution_count": 32,
   "id": "bd9bd8f1-27b9-4b62-a724-bdd775df7070",
   "metadata": {},
   "outputs": [],
   "source": [
    "ab=np.random.randint(1,1000,(35,45))"
   ]
  },
  {
   "cell_type": "code",
   "execution_count": 33,
   "id": "c3d731ab-9b64-46fd-a07b-dee45b54daaf",
   "metadata": {},
   "outputs": [],
   "source": [
    "import pandas as pd"
   ]
  },
  {
   "cell_type": "code",
   "execution_count": 34,
   "id": "074466a9-245e-46de-86ae-f02107aa6c34",
   "metadata": {},
   "outputs": [],
   "source": [
    "# pd.DataFrame(ab).to_csv('random.csv')"
   ]
  },
  {
   "cell_type": "code",
   "execution_count": 37,
   "id": "5a4bbf45-d928-42d6-81e7-f93f9d144b2d",
   "metadata": {},
   "outputs": [
    {
     "data": {
      "text/plain": [
       "array([[-0.09895413,  1.56838812,  2.78418754],\n",
       "       [-1.77607655, -0.45713596, -1.40912848],\n",
       "       [-0.85237277, -1.1872031 ,  0.8083733 ],\n",
       "       [-0.67557225,  0.52868644,  0.34994848]])"
      ]
     },
     "execution_count": 37,
     "metadata": {},
     "output_type": "execute_result"
    }
   ],
   "source": [
    "cd.reshape(4,-1)"
   ]
  },
  {
   "cell_type": "code",
   "execution_count": 43,
   "id": "f7c876f6-5bb7-4a51-9b93-85a7b759ea33",
   "metadata": {},
   "outputs": [
    {
     "data": {
      "text/plain": [
       "array([[35,  3, 32, 93],\n",
       "       [70, 32,  6, 78],\n",
       "       [17, 84, 34, 88],\n",
       "       [76, 32, 13, 23],\n",
       "       [27, 15, 11, 21]])"
      ]
     },
     "execution_count": 43,
     "metadata": {},
     "output_type": "execute_result"
    }
   ],
   "source": [
    "arr = np.random.randint(1,100,(5,4))\n",
    "arr"
   ]
  },
  {
   "cell_type": "code",
   "execution_count": 44,
   "id": "ea5ca25b-26b5-48e8-9b34-c8bda1408dc8",
   "metadata": {},
   "outputs": [
    {
     "data": {
      "text/plain": [
       "array([[False, False, False,  True],\n",
       "       [ True, False, False,  True],\n",
       "       [False,  True, False,  True],\n",
       "       [ True, False, False, False],\n",
       "       [False, False, False, False]])"
      ]
     },
     "execution_count": 44,
     "metadata": {},
     "output_type": "execute_result"
    }
   ],
   "source": [
    "arr>50"
   ]
  },
  {
   "cell_type": "code",
   "execution_count": 45,
   "id": "3540df98-f6c6-4b86-bb15-80893ed03dd9",
   "metadata": {},
   "outputs": [
    {
     "data": {
      "text/plain": [
       "array([93, 70, 78, 84, 88, 76])"
      ]
     },
     "execution_count": 45,
     "metadata": {},
     "output_type": "execute_result"
    }
   ],
   "source": [
    "arr[arr>50]"
   ]
  },
  {
   "cell_type": "code",
   "execution_count": 47,
   "id": "e55a513a-9e1c-47b4-afd2-cf0f425afad8",
   "metadata": {},
   "outputs": [
    {
     "data": {
      "text/plain": [
       "array([[21, 29, 84,  8],\n",
       "       [32, 33,  1, 41],\n",
       "       [17, 25, 95, 18],\n",
       "       [21, 49, 61,  3],\n",
       "       [55, 25, 71, 79]])"
      ]
     },
     "execution_count": 47,
     "metadata": {},
     "output_type": "execute_result"
    }
   ],
   "source": [
    "arr = np.random.randint(1,100,(5,4))\n",
    "arr"
   ]
  },
  {
   "cell_type": "code",
   "execution_count": 51,
   "id": "79e22966-0a1c-4b50-aa15-5edc20192d0f",
   "metadata": {},
   "outputs": [
    {
     "data": {
      "text/plain": [
       "array([[25, 95, 18],\n",
       "       [49, 61,  3],\n",
       "       [25, 71, 79]])"
      ]
     },
     "execution_count": 51,
     "metadata": {},
     "output_type": "execute_result"
    }
   ],
   "source": [
    "arr[2:5,[1,2,3]]"
   ]
  },
  {
   "cell_type": "code",
   "execution_count": 52,
   "id": "625cd81a-04bb-44d8-8180-16ca70b65be9",
   "metadata": {},
   "outputs": [
    {
     "data": {
      "text/plain": [
       "array([[ 4, 69, 10,  7],\n",
       "       [72, 17, 23, 46],\n",
       "       [48, 30, 70, 92],\n",
       "       [ 2, 47, 52, 12],\n",
       "       [54, 41, 15, 40]])"
      ]
     },
     "execution_count": 52,
     "metadata": {},
     "output_type": "execute_result"
    }
   ],
   "source": [
    "arr = np.random.randint(1,100,(5,4))\n",
    "arr"
   ]
  },
  {
   "cell_type": "code",
   "execution_count": 54,
   "id": "5ecf6ad9-e045-4cf4-a032-e8065f219511",
   "metadata": {},
   "outputs": [
    {
     "data": {
      "text/plain": [
       "array([[30, 70],\n",
       "       [47, 52]])"
      ]
     },
     "execution_count": 54,
     "metadata": {},
     "output_type": "execute_result"
    }
   ],
   "source": [
    "arr[2:4,[1,2]]"
   ]
  },
  {
   "cell_type": "code",
   "execution_count": 55,
   "id": "c24a4256-d332-40a1-bad2-c3af09abd854",
   "metadata": {},
   "outputs": [],
   "source": [
    "arr1=np.random.randint(1,6,(3,4))\n",
    "arr2=np.random.randint(2,5,(3,4))"
   ]
  },
  {
   "cell_type": "code",
   "execution_count": 58,
   "id": "f2ffa61c-9745-4428-b56a-c298adf06425",
   "metadata": {},
   "outputs": [
    {
     "data": {
      "text/plain": [
       "array([[4, 3, 4, 4],\n",
       "       [5, 4, 3, 4],\n",
       "       [3, 2, 2, 2]])"
      ]
     },
     "execution_count": 58,
     "metadata": {},
     "output_type": "execute_result"
    }
   ],
   "source": [
    "arr1\n"
   ]
  },
  {
   "cell_type": "code",
   "execution_count": 57,
   "id": "9f896c97-7764-405a-98d9-5a01ab195f25",
   "metadata": {},
   "outputs": [
    {
     "data": {
      "text/plain": [
       "array([[2, 3, 2, 2],\n",
       "       [2, 3, 4, 4],\n",
       "       [4, 3, 4, 3]])"
      ]
     },
     "execution_count": 57,
     "metadata": {},
     "output_type": "execute_result"
    }
   ],
   "source": [
    "arr2"
   ]
  },
  {
   "cell_type": "code",
   "execution_count": 59,
   "id": "8b51cc03-89c4-409b-a0db-77c2382e5380",
   "metadata": {},
   "outputs": [
    {
     "data": {
      "text/plain": [
       "array([[6, 6, 6, 6],\n",
       "       [7, 7, 7, 8],\n",
       "       [7, 5, 6, 5]])"
      ]
     },
     "execution_count": 59,
     "metadata": {},
     "output_type": "execute_result"
    }
   ],
   "source": [
    "arr1+arr2"
   ]
  },
  {
   "cell_type": "code",
   "execution_count": 60,
   "id": "e639568f-4f96-4a90-8a4b-faa154e831d5",
   "metadata": {},
   "outputs": [
    {
     "data": {
      "text/plain": [
       "array([[ 8,  9,  8,  8],\n",
       "       [10, 12, 12, 16],\n",
       "       [12,  6,  8,  6]])"
      ]
     },
     "execution_count": 60,
     "metadata": {},
     "output_type": "execute_result"
    }
   ],
   "source": [
    "arr1*arr2"
   ]
  },
  {
   "cell_type": "code",
   "execution_count": 67,
   "id": "62c5e967-c9e6-436c-ba2f-7e0592fd1b89",
   "metadata": {},
   "outputs": [],
   "source": [
    "arr11=np.random.randint(1,6,(4,4))\n",
    "arr22=np.random.randint(2,5,(4,4))"
   ]
  },
  {
   "cell_type": "code",
   "execution_count": 70,
   "id": "e98fb2c2-0d2a-4bcd-92e9-c1fd68d934ef",
   "metadata": {},
   "outputs": [],
   "source": [
    "ans=arr11@arr22"
   ]
  },
  {
   "cell_type": "code",
   "execution_count": 71,
   "id": "243a3f2c-08ae-4b2f-93c3-3c78dd67916c",
   "metadata": {},
   "outputs": [
    {
     "data": {
      "text/plain": [
       "array([[6.08276253, 6.164414  , 5.74456265, 5.91607978],\n",
       "       [6.63324958, 6.63324958, 6.164414  , 6.244998  ],\n",
       "       [5.        , 4.89897949, 5.38516481, 4.89897949],\n",
       "       [6.4807407 , 6.4807407 , 6.70820393, 6.08276253]])"
      ]
     },
     "execution_count": 71,
     "metadata": {},
     "output_type": "execute_result"
    }
   ],
   "source": [
    "np.sqrt(ans)"
   ]
  },
  {
   "cell_type": "code",
   "execution_count": 72,
   "id": "c615e1db-5639-448c-9060-f930df782345",
   "metadata": {},
   "outputs": [
    {
     "data": {
      "text/plain": [
       "array([[1.17191424e+16, 3.18559318e+16, 2.14643580e+14, 1.58601345e+15],\n",
       "       [1.28516001e+19, 1.28516001e+19, 3.18559318e+16, 8.65934004e+16],\n",
       "       [7.20048993e+10, 2.64891221e+10, 3.93133430e+12, 2.64891221e+10],\n",
       "       [1.73927494e+18, 1.73927494e+18, 3.49342711e+19, 1.17191424e+16]])"
      ]
     },
     "execution_count": 72,
     "metadata": {},
     "output_type": "execute_result"
    }
   ],
   "source": [
    "np.exp(ans)"
   ]
  },
  {
   "cell_type": "code",
   "execution_count": 74,
   "id": "cc1f63a6-64bf-416f-b2fd-36c5cfadc0af",
   "metadata": {},
   "outputs": [
    {
     "data": {
      "text/plain": [
       "array([[5.20945337, 5.24792751, 5.04439412, 5.12928302],\n",
       "       [5.45943162, 5.45943162, 5.24792751, 5.28540222],\n",
       "       [4.64385619, 4.5849625 , 4.857981  , 4.5849625 ],\n",
       "       [5.39231742, 5.39231742, 5.4918531 , 5.20945337]])"
      ]
     },
     "execution_count": 74,
     "metadata": {},
     "output_type": "execute_result"
    }
   ],
   "source": [
    "np.log2(ans)"
   ]
  },
  {
   "cell_type": "code",
   "execution_count": null,
   "id": "852ba497-89e6-43b7-b977-6735e225a589",
   "metadata": {},
   "outputs": [],
   "source": []
  }
 ],
 "metadata": {
  "kernelspec": {
   "display_name": "Python 3 (ipykernel)",
   "language": "python",
   "name": "python3"
  },
  "language_info": {
   "codemirror_mode": {
    "name": "ipython",
    "version": 3
   },
   "file_extension": ".py",
   "mimetype": "text/x-python",
   "name": "python",
   "nbconvert_exporter": "python",
   "pygments_lexer": "ipython3",
   "version": "3.10.8"
  }
 },
 "nbformat": 4,
 "nbformat_minor": 5
}
